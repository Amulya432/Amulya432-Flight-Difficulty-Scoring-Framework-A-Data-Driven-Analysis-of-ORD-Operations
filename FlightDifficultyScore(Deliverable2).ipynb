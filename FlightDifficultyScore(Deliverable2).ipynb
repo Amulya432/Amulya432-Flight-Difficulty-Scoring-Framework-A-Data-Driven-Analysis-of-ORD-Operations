{
  "nbformat": 4,
  "nbformat_minor": 0,
  "metadata": {
    "colab": {
      "provenance": []
    },
    "kernelspec": {
      "name": "python3",
      "display_name": "Python 3"
    },
    "language_info": {
      "name": "python"
    }
  },
  "cells": [
    {
      "cell_type": "markdown",
      "source": [
        "\n",
        "\n",
        "> **Deliverable 2: Flight Difficulty Score Development**\n",
        "\n"
      ],
      "metadata": {
        "id": "V0io083wTQ6l"
      }
    },
    {
      "cell_type": "code",
      "source": [
        "\n",
        "#  Deliverable 2: Flight Difficulty Score Development\n",
        "#  Team: Maverick\n",
        "# Step 1 — Import Libraries\n",
        "\n",
        "\n",
        "import pandas as pd\n",
        "import numpy as np\n",
        "from sklearn.preprocessing import MinMaxScaler\n",
        "\n",
        "print(\" Libraries imported successfully.\")\n"
      ],
      "metadata": {
        "colab": {
          "base_uri": "https://localhost:8080/"
        },
        "id": "zQoks5xzTHHk",
        "outputId": "89c9dbff-0927-4ab9-ce0d-61fd11cf49f3"
      },
      "execution_count": 3,
      "outputs": [
        {
          "output_type": "stream",
          "name": "stdout",
          "text": [
            " Libraries imported successfully.\n"
          ]
        }
      ]
    },
    {
      "cell_type": "markdown",
      "source": [
        "**Step 2 — Load All CSV Files**"
      ],
      "metadata": {
        "id": "nECr70q8Tcp3"
      }
    },
    {
      "cell_type": "code",
      "source": [
        "flight_data = pd.read_csv('Flight Level Data.csv')\n",
        "bags_data = pd.read_csv('BagLevelData.csv')\n",
        "pnr_flight_data = pd.read_csv('PNRFlightLevelData.csv')\n",
        "pnr_remarks_data = pd.read_csv('PNR Remark Level Data.csv')\n",
        "airport_data = pd.read_csv('Airports Data.csv')\n",
        "\n",
        "print(\" All CSV files loaded successfully.\")\n",
        "print(f\"Flights: {flight_data.shape}, Bags: {bags_data.shape}, PNRs: {pnr_flight_data.shape}\")\n",
        "\n",
        "\n"
      ],
      "metadata": {
        "colab": {
          "base_uri": "https://localhost:8080/"
        },
        "id": "9xm2RUIFwZaG",
        "outputId": "685ff83f-1c5d-458f-9b82-88c6f5354ac7"
      },
      "execution_count": 9,
      "outputs": [
        {
          "output_type": "stream",
          "name": "stdout",
          "text": [
            " All CSV files loaded successfully.\n",
            "Flights: (8099, 15), Bags: (687245, 8), PNRs: (687878, 12)\n"
          ]
        }
      ]
    },
    {
      "cell_type": "markdown",
      "source": [
        "**Data Merging and Preprocessing**"
      ],
      "metadata": {
        "id": "00JbpxRz4knV"
      }
    },
    {
      "cell_type": "code",
      "source": [
        "flight_data.columns = flight_data.columns.str.strip().str.lower()\n",
        "for c in ['scheduled_departure_datetime_local', 'scheduled_arrival_datetime_local',\n",
        "          'actual_departure_datetime_local', 'actual_arrival_datetime_local',\n",
        "          'scheduled_departure_date_local']:\n",
        "    flight_data[c] = pd.to_datetime(flight_data[c], errors='coerce')\n",
        "\n",
        "flight_data.drop_duplicates(subset=['company_id', 'flight_number', 'scheduled_departure_date_local'], inplace=True)\n",
        "flight_data.dropna(subset=['actual_departure_datetime_local'], inplace=True)\n",
        "\n",
        "pnr_flight_data.columns = pnr_flight_data.columns.str.strip().str.lower()\n",
        "pnr_flight_data['scheduled_departure_date_local'] = pd.to_datetime(pnr_flight_data['scheduled_departure_date_local'], errors='coerce')\n",
        "\n",
        "bags_data.columns = bags_data.columns.str.strip().str.lower()\n",
        "bags_data['scheduled_departure_date_local'] = pd.to_datetime(bags_data['scheduled_departure_date_local'], errors='coerce')\n",
        "\n",
        "pnr_remarks_data.columns = pnr_remarks_data.columns.str.strip().str.lower()\n",
        "\n",
        "print(\" Data cleaning complete for all input datasets.\")\n"
      ],
      "metadata": {
        "colab": {
          "base_uri": "https://localhost:8080/"
        },
        "id": "5aE8aUAixP6A",
        "outputId": "8856d5b7-30ef-449b-9090-fa56f37a228d"
      },
      "execution_count": 10,
      "outputs": [
        {
          "output_type": "stream",
          "name": "stdout",
          "text": [
            " Data cleaning complete for all input datasets.\n"
          ]
        }
      ]
    },
    {
      "cell_type": "markdown",
      "source": [
        "**Aggregate Passenger, Bag, and SSR Data**"
      ],
      "metadata": {
        "id": "3asIQsba4x88"
      }
    },
    {
      "cell_type": "code",
      "source": [
        "# Passenger aggregation\n",
        "unique_pnr = pnr_flight_data.drop_duplicates(subset=['record_locator', 'flight_number', 'scheduled_departure_date_local'])\n",
        "pax_summary = unique_pnr.groupby(['company_id', 'flight_number', 'scheduled_departure_date_local']).agg(\n",
        "    total_pax=('total_pax', 'sum'),\n",
        "    child_pax=('is_child', lambda x: (x == 'Y').sum()),\n",
        "    lap_child=('lap_child_count', 'sum')\n",
        ").reset_index()\n",
        "\n",
        "# Bag aggregation\n",
        "bag_summary = bags_data.groupby(['company_id', 'flight_number', 'scheduled_departure_date_local']).agg(\n",
        "    total_bags=('bag_tag_unique_number', 'count'),\n",
        "    transfer_bags=('bag_type', lambda x: x.isin(['Transfer', 'Hot']).sum()),\n",
        "    hot_bags=('bag_type', lambda x: (x == 'Hot').sum())\n",
        ").reset_index()\n",
        "\n",
        "# SSR aggregation\n",
        "pnr_ref = pnr_flight_data[['record_locator', 'company_id', 'flight_number', 'scheduled_departure_date_local']].drop_duplicates()\n",
        "merged_ssr = pd.merge(pnr_remarks_data.drop(columns=['flight_number', 'pnr_creation_date']), pnr_ref, on='record_locator', how='left')\n",
        "ssr_summary = merged_ssr.groupby(['company_id', 'flight_number', 'scheduled_departure_date_local']).size().reset_index(name='ssr_count')\n",
        "\n",
        "print(\" Passenger, baggage, and SSR aggregation complete.\")\n"
      ],
      "metadata": {
        "colab": {
          "base_uri": "https://localhost:8080/"
        },
        "id": "xLV_hisFyPJO",
        "outputId": "acf1eaae-4fbb-4ee9-9fe8-37ab2826aba5"
      },
      "execution_count": 11,
      "outputs": [
        {
          "output_type": "stream",
          "name": "stdout",
          "text": [
            " Passenger, baggage, and SSR aggregation complete.\n"
          ]
        }
      ]
    },
    {
      "cell_type": "markdown",
      "source": [
        "**Merge into Master DataFrame**"
      ],
      "metadata": {
        "id": "qwO3K8-x43ze"
      }
    },
    {
      "cell_type": "code",
      "source": [
        "merged_df = pd.merge(flight_data, pax_summary, on=['company_id','flight_number','scheduled_departure_date_local'], how='left')\n",
        "merged_df = pd.merge(merged_df, bag_summary, on=['company_id','flight_number','scheduled_departure_date_local'], how='left')\n",
        "merged_df = pd.merge(merged_df, ssr_summary, on=['company_id','flight_number','scheduled_departure_date_local'], how='left')\n",
        "\n",
        "for col in ['total_pax','child_pax','lap_child','total_bags','transfer_bags','hot_bags','ssr_count']:\n",
        "    merged_df[col] = merged_df[col].fillna(0)\n",
        "\n",
        "print(f\" Master dataset prepared successfully — shape: {merged_df.shape}\")\n"
      ],
      "metadata": {
        "colab": {
          "base_uri": "https://localhost:8080/"
        },
        "id": "Jr3UHSa0yTxr",
        "outputId": "b76f21d4-ec61-41a2-9b3c-f1013e57f6f6"
      },
      "execution_count": 12,
      "outputs": [
        {
          "output_type": "stream",
          "name": "stdout",
          "text": [
            " Master dataset prepared successfully — shape: (8063, 22)\n"
          ]
        }
      ]
    },
    {
      "cell_type": "markdown",
      "source": [
        "**Feature Engineering**"
      ],
      "metadata": {
        "id": "qWXfscqd486a"
      }
    },
    {
      "cell_type": "code",
      "source": [
        "\n",
        "# FEATURE ENGINEERING — MAVERICK TEAM\n",
        "\n",
        "\n",
        "import pandas as pd\n",
        "import numpy as np\n",
        "\n",
        "print(\" Initiating Feature Engineering...\")\n",
        "\n",
        "#  Data Cleaning before Feature Creation\n",
        "\n",
        "# Standardize column names\n",
        "for df in [flight_data, bags_data, pnr_flight_data, pnr_remarks_data, airport_data]:\n",
        "    df.columns = df.columns.str.lower().str.strip()\n",
        "\n",
        "# Convert date columns in flight data\n",
        "for col in ['scheduled_departure_datetime_local', 'scheduled_arrival_datetime_local',\n",
        "            'actual_departure_datetime_local', 'actual_arrival_datetime_local',\n",
        "            'scheduled_departure_date_local']:\n",
        "    if col in flight_data.columns:\n",
        "        flight_data[col] = pd.to_datetime(flight_data[col], errors='coerce')\n",
        "\n",
        "#  Aggregations from Secondary Tables \n",
        "\n",
        "#  Passenger-Level Aggregation\n",
        "pax_agg = (\n",
        "    pnr_flight_data.drop_duplicates(subset=['record_locator', 'flight_number', 'scheduled_departure_date_local'])\n",
        "    .groupby(['company_id', 'flight_number', 'scheduled_departure_date_local'])\n",
        "    .agg(\n",
        "        total_pax=('total_pax', 'sum'),\n",
        "        child_pax_count=('is_child', lambda x: (x == 'Y').sum()),\n",
        "        lap_child_count=('lap_child_count', 'sum')\n",
        "    ).reset_index()\n",
        ")\n",
        "\n",
        "#  Bag-Level Aggregation\n",
        "bag_agg = (\n",
        "    bags_data.groupby(['company_id', 'flight_number', 'scheduled_departure_date_local'])\n",
        "    .agg(\n",
        "        total_bags=('bag_tag_unique_number', 'count'),\n",
        "        transfer_bags=('bag_type', lambda x: x.isin(['Transfer', 'Hot']).sum()),\n",
        "        hot_transfer_bags=('bag_type', lambda x: (x == 'Hot').sum())\n",
        "    ).reset_index()\n",
        ")\n",
        "\n",
        "#  SSR (Special Service Requests)\n",
        "pnr_with_date = pnr_flight_data[['record_locator', 'company_id', 'flight_number', 'scheduled_departure_date_local']].drop_duplicates()\n",
        "remarks_merge = pd.merge(\n",
        "    pnr_remarks_data[['record_locator', 'special_service_request']],\n",
        "    pnr_with_date,\n",
        "    on='record_locator',\n",
        "    how='left'\n",
        ")\n",
        "ssr_agg = remarks_merge.groupby(['company_id', 'flight_number', 'scheduled_departure_date_local']).size().reset_index(name='ssr_count')\n",
        "\n",
        "#  Merge All Data into a Master Frame \n",
        "master_df = (\n",
        "    flight_data\n",
        "    .merge(pax_agg, on=['company_id', 'flight_number', 'scheduled_departure_date_local'], how='left')\n",
        "    .merge(bag_agg, on=['company_id', 'flight_number', 'scheduled_departure_date_local'], how='left')\n",
        "    .merge(ssr_agg, on=['company_id', 'flight_number', 'scheduled_departure_date_local'], how='left')\n",
        ")\n",
        "\n",
        "# Fill NaNs in numeric fields\n",
        "for col in ['total_pax', 'child_pax_count', 'lap_child_count', 'total_bags',\n",
        "            'transfer_bags', 'hot_transfer_bags', 'ssr_count']:\n",
        "    master_df[col] = master_df[col].fillna(0)\n",
        "\n",
        "print(f\" Master dataframe ready with {master_df.shape[0]} rows and {master_df.shape[1]} columns.\")\n",
        "\n",
        "#  Begin Feature Engineering \n",
        "\n",
        "# (a) Ground Pressure\n",
        "master_df['feat_ground_pressure'] = master_df['minimum_turn_minutes'] / master_df['scheduled_ground_time_minutes']\n",
        "\n",
        "# (b) Load Factor\n",
        "master_df['feat_load_factor'] = master_df['total_pax'] / master_df['total_seats']\n",
        "\n",
        "# (c) Child Ratio\n",
        "master_df['feat_child_ratio'] = (master_df['child_pax_count'] + master_df['lap_child_count']) / master_df['total_pax']\n",
        "\n",
        "# (d) Bags per Pax\n",
        "master_df['feat_bags_per_pax'] = master_df['total_bags'] / master_df['total_pax']\n",
        "\n",
        "# (e) Transfer Bag Ratio\n",
        "master_df['feat_transfer_ratio'] = master_df['transfer_bags'] / master_df['total_bags']\n",
        "\n",
        "# (f) Aircraft Type (Widebody)\n",
        "wide_bodies = ['B767', 'B777', 'B787', 'A330', 'A340', 'A350', 'A380']\n",
        "master_df['feat_is_widebody'] = master_df['fleet_type'].apply(lambda x: 1 if any(w in str(x) for w in wide_bodies) else 0)\n",
        "\n",
        "# (g) Flight Duration (Haul Category)\n",
        "master_df['flight_duration_hr'] = (\n",
        "    master_df['scheduled_arrival_datetime_local'] - master_df['scheduled_departure_datetime_local']\n",
        ").dt.total_seconds() / 3600\n",
        "\n",
        "master_df['feat_haul_type'] = pd.cut(\n",
        "    master_df['flight_duration_hr'],\n",
        "    bins=[-1, 3, 6, 24],\n",
        "    labels=[0, 1, 2]\n",
        ")\n",
        "master_df['feat_haul_type'] = pd.to_numeric(master_df['feat_haul_type'], errors='coerce').fillna(0).astype(int)\n",
        "\n",
        "# (h) SSR & Hot Bag Pressure\n",
        "master_df.rename(columns={'ssr_count': 'feat_ssr_count', 'hot_transfer_bags': 'feat_hot_bags'}, inplace=True)\n",
        "\n",
        "# (i) Departure Hour\n",
        "master_df['feat_depart_hour'] = master_df['scheduled_departure_datetime_local'].dt.hour\n",
        "\n",
        "# (j) International Flights\n",
        "airport_data.columns = airport_data.columns.str.lower().str.strip()\n",
        "master_df = pd.merge(\n",
        "    master_df,\n",
        "    airport_data[['airport_iata_code', 'iso_country_code']],\n",
        "    left_on='scheduled_arrival_station_code',\n",
        "    right_on='airport_iata_code',\n",
        "    how='left'\n",
        ")\n",
        "master_df['feat_is_international'] = (master_df['iso_country_code'] != 'US').astype(int)\n",
        "\n",
        "#  Data Cleanup \n",
        "features_to_clean = [\n",
        "    'feat_ground_pressure', 'feat_load_factor', 'feat_child_ratio',\n",
        "    'feat_bags_per_pax', 'feat_transfer_ratio'\n",
        "]\n",
        "master_df[features_to_clean] = master_df[features_to_clean].replace([np.inf, -np.inf], np.nan).fillna(0)\n",
        "\n",
        "print(\" Feature Engineering Completed Successfully!\")\n",
        "\n",
        "\n",
        "\n"
      ],
      "metadata": {
        "colab": {
          "base_uri": "https://localhost:8080/"
        },
        "id": "TFguI3LqyjJq",
        "outputId": "de95951a-4a3e-4e08-f560-cb72d8dfe6ed"
      },
      "execution_count": 18,
      "outputs": [
        {
          "output_type": "stream",
          "name": "stdout",
          "text": [
            " Initiating Feature Engineering...\n",
            " Master dataframe ready with 8063 rows and 22 columns.\n",
            " Feature Engineering Completed Successfully!\n"
          ]
        }
      ]
    },
    {
      "cell_type": "markdown",
      "source": [
        "**FLIGHT DIFFICULTY SCORING AND CLASSIFICATION**"
      ],
      "metadata": {
        "id": "h82zObKI5DLO"
      }
    },
    {
      "cell_type": "code",
      "source": [
        "\n",
        "#  STEP 7: FLIGHT DIFFICULTY SCORING AND CLASSIFICATION\n",
        "\n",
        "\n",
        "from sklearn.preprocessing import MinMaxScaler\n",
        "\n",
        "print(\" Initiating Flight Difficulty Scoring...\")\n",
        "\n",
        "\n",
        "#  Define Key Feature Set & Associated Weights\n",
        "\n",
        "feature_cols = [\n",
        "    'feat_ground_pressure', 'feat_transfer_ratio', 'feat_ssr_count',\n",
        "    'feat_load_factor', 'feat_is_widebody', 'feat_bags_per_pax',\n",
        "    'feat_haul_type', 'feat_is_international', 'feat_hot_bags', 'feat_child_ratio'\n",
        "]\n",
        "\n",
        "# Weighted based on operational importance (higher = more impact)\n",
        "feature_weights = {\n",
        "    'feat_ground_pressure': 0.25,  # tight ground turns are most stressful\n",
        "    'feat_transfer_ratio': 0.20,\n",
        "    'feat_ssr_count': 0.15,\n",
        "    'feat_load_factor': 0.10,\n",
        "    'feat_is_widebody': 0.07,\n",
        "    'feat_bags_per_pax': 0.05,\n",
        "    'feat_haul_type': 0.05,\n",
        "    'feat_is_international': 0.05,\n",
        "    'feat_hot_bags': 0.05,\n",
        "    'feat_child_ratio': 0.03\n",
        "}\n",
        "\n",
        "\n",
        "#  Daily-Level Normalization & Score Calculation\n",
        "\n",
        "all_days_results = []\n",
        "\n",
        "for date, daily_df in master_df.groupby(master_df['scheduled_departure_date_local']):\n",
        "    daily = daily_df.copy()\n",
        "\n",
        "    # Normalize each feature between 0 and 1\n",
        "    for col in feature_cols:\n",
        "        if daily[col].max() == daily[col].min():\n",
        "            daily[f'{col}_norm'] = 0\n",
        "        else:\n",
        "            scaler = MinMaxScaler()\n",
        "            daily[f'{col}_norm'] = scaler.fit_transform(daily[[col]])\n",
        "\n",
        "    # Compute difficulty score using weighted sum\n",
        "    daily['difficulty_score'] = 0\n",
        "    for col, weight in feature_weights.items():\n",
        "        daily['difficulty_score'] += daily[f'{col}_norm'] * weight\n",
        "\n",
        "    all_days_results.append(daily)\n",
        "\n",
        "# Combine all daily scores\n",
        "scored_df = pd.concat(all_days_results, ignore_index=True)\n",
        "\n",
        "\n",
        "#  Ranking & Classification (within each day)\n",
        "\n",
        "# Normalize difficulty scores to range 1–100\n",
        "scored_df['difficulty_score'] = (\n",
        "    MinMaxScaler(feature_range=(1, 100)).fit_transform(scored_df[['difficulty_score']])\n",
        ")\n",
        "\n",
        "# Rank flights within each day\n",
        "scored_df['daily_rank'] = scored_df.groupby(scored_df['scheduled_departure_date_local'])['difficulty_score'] \\\n",
        "                                   .rank(method='first', ascending=False)\n",
        "\n",
        "# Classification based on rank distribution\n",
        "def classify_flight(rank, total):\n",
        "    if rank <= total * 0.2:\n",
        "        return 'Difficult'\n",
        "    elif rank <= total * 0.7:\n",
        "        return 'Medium'\n",
        "    else:\n",
        "        return 'Easy'\n",
        "\n",
        "# Apply classification\n",
        "total_daily_flights = scored_df.groupby(scored_df['scheduled_departure_date_local'])['daily_rank'].transform('max')\n",
        "scored_df['difficulty_class'] = scored_df.apply(\n",
        "    lambda x: classify_flight(x['daily_rank'], total_daily_flights[x.name]), axis=1\n",
        ")\n",
        "\n",
        "print(\" Flight Difficulty Score Calculated and Ranked Successfully!\")\n",
        "\n",
        "\n",
        "#  Quick Summary Insight\n",
        "\n",
        "summary = scored_df['difficulty_class'].value_counts(normalize=True) * 100\n",
        "print(\"\\nDifficulty Class Distribution (%):\")\n",
        "print(summary.round(2))\n",
        "\n"
      ],
      "metadata": {
        "colab": {
          "base_uri": "https://localhost:8080/"
        },
        "id": "zCYFvBMF1xSg",
        "outputId": "78856a0a-e459-4c25-c255-00503c69db20"
      },
      "execution_count": 20,
      "outputs": [
        {
          "output_type": "stream",
          "name": "stdout",
          "text": [
            " Initiating Flight Difficulty Scoring...\n",
            " Flight Difficulty Score Calculated and Ranked Successfully!\n",
            "\n",
            "Difficulty Class Distribution (%):\n",
            "difficulty_class\n",
            "Medium       49.99\n",
            "Easy         30.06\n",
            "Difficult    19.94\n",
            "Name: proportion, dtype: float64\n"
          ]
        }
      ]
    },
    {
      "cell_type": "markdown",
      "source": [
        "**VISUALIZATION(DIFFICULT,EASY,MEDIUM)**"
      ],
      "metadata": {
        "id": "W5md4yzJ5HJ2"
      }
    },
    {
      "cell_type": "code",
      "source": [
        "import matplotlib.pyplot as plt\n",
        "import seaborn as sns\n",
        "\n",
        "plt.figure(figsize=(8, 5))\n",
        "sns.countplot(data=scored_df, x='difficulty_class', palette=['#ff6b6b', '#feca57', '#1dd1a1'])\n",
        "plt.title(\"Flight Difficulty Classification Distribution\", fontsize=15)\n",
        "plt.xlabel(\"Difficulty Class\")\n",
        "plt.ylabel(\"Number of Flights\")\n",
        "plt.grid(alpha=0.3)\n",
        "plt.show()\n"
      ],
      "metadata": {
        "colab": {
          "base_uri": "https://localhost:8080/",
          "height": 596
        },
        "id": "owgb-t5M2MrU",
        "outputId": "6771120b-4749-4b81-a685-0093e2c99323"
      },
      "execution_count": 21,
      "outputs": [
        {
          "output_type": "stream",
          "name": "stderr",
          "text": [
            "/tmp/ipython-input-3651123657.py:5: FutureWarning: \n",
            "\n",
            "Passing `palette` without assigning `hue` is deprecated and will be removed in v0.14.0. Assign the `x` variable to `hue` and set `legend=False` for the same effect.\n",
            "\n",
            "  sns.countplot(data=scored_df, x='difficulty_class', palette=['#ff6b6b', '#feca57', '#1dd1a1'])\n"
          ]
        },
        {
          "output_type": "display_data",
          "data": {
            "text/plain": [
              "<Figure size 800x500 with 1 Axes>"
            ],
            "image/png": "[encoded data removed]"
          },
          "metadata": {}
        }
      ]
    },
    {
      "cell_type": "markdown",
      "source": [
        "**FINAL OUTPUT — MAVERICK TEAM**"
      ],
      "metadata": {
        "id": "hursP8pq6Z32"
      }
    },
    {
      "cell_type": "code",
      "source": [
        "\n",
        "# STEP 8: FINAL OUTPUT — MAVERICK TEAM\n",
        "\n",
        "\n",
        "print(\" Preparing Final Submission File...\")\n",
        "\n",
        "#  Team Name\n",
        "team_name = \"Maverick\"\n",
        "\n",
        "#  Columns to include in final output (as per submission rules)\n",
        "flight_details = [\n",
        "    'company_id', 'flight_number', 'scheduled_departure_date_local',\n",
        "    'scheduled_departure_station_code', 'scheduled_arrival_station_code', 'fleet_type'\n",
        "]\n",
        "\n",
        "feature_cols = [\n",
        "    'feat_ground_pressure', 'feat_transfer_ratio', 'feat_ssr_count',\n",
        "    'feat_load_factor', 'feat_is_widebody', 'feat_bags_per_pax',\n",
        "    'feat_haul_type', 'feat_is_international', 'feat_hot_bags', 'feat_child_ratio'\n",
        "]\n",
        "\n",
        "score_cols = ['difficulty_score', 'daily_rank', 'difficulty_class']\n",
        "\n",
        "# Combine selected columns\n",
        "final_output = scored_df[flight_details + feature_cols + score_cols]\n",
        "\n",
        "#  Optional sanity check\n",
        "print(f\" Final dataset ready with {final_output.shape[0]} rows and {final_output.shape[1]} columns.\")\n",
        "\n",
        "#  Export to CSV\n",
        "output_filename = f\"test_{team_name}.csv\"\n",
        "final_output.to_csv(output_filename, index=False)\n",
        "\n",
        "print(\"\\n--------------------------------------------------\")\n",
        "print(f\" SUCCESS: Submission file generated successfully!\")\n",
        "print(f\" Filename: {output_filename}\")\n",
        "\n",
        "\n",
        "#  Show first few rows as preview\n",
        "print(\" Sample Preview:\")\n",
        "print(final_output.head(10))\n"
      ],
      "metadata": {
        "colab": {
          "base_uri": "https://localhost:8080/"
        },
        "id": "cUpRqIzX2UPn",
        "outputId": "918da4de-fcef-40ed-90bd-4db56b8bf9ba"
      },
      "execution_count": 22,
      "outputs": [
        {
          "output_type": "stream",
          "name": "stdout",
          "text": [
            " Preparing Final Submission File...\n",
            " Final dataset ready with 8063 rows and 19 columns.\n",
            "\n",
            "--------------------------------------------------\n",
            "SUCCESS: Submission file generated successfully!\n",
            " Filename: test_Maverick.csv\n",
            "--------------------------------------------------\n",
            "\n",
            " Sample Preview:\n",
            "  company_id  flight_number scheduled_departure_date_local  \\\n",
            "0         OO           5564                     2025-08-01   \n",
            "1         UA           1899                     2025-08-01   \n",
            "2         UA           2189                     2025-08-01   \n",
            "3         G7           4590                     2025-08-01   \n",
            "4         UA            224                     2025-08-01   \n",
            "5         UA            763                     2025-08-01   \n",
            "6         OO           5521                     2025-08-01   \n",
            "7         OO           5790                     2025-08-01   \n",
            "8         G7           4491                     2025-08-01   \n",
            "9         OO           5140                     2025-08-01   \n",
            "\n",
            "  scheduled_departure_station_code scheduled_arrival_station_code fleet_type  \\\n",
            "0                              ORD                            SBN    CRJ-550   \n",
            "1                              ORD                            YYC   A319-100   \n",
            "2                              ORD                            LGA  B737-MAX8   \n",
            "3                              ORD                            MDT    CRJ-550   \n",
            "4                              ORD                            BZN   B737-800   \n",
            "5                              ORD                            PWM   B737-800   \n",
            "6                              ORD                            ATW    CRJ-200   \n",
            "7                              ORD                            CRW    CRJ-200   \n",
            "8                              ORD                            CAE    CRJ-550   \n",
            "9                              ORD                            CMX    CRJ-200   \n",
            "\n",
            "   feat_ground_pressure  feat_transfer_ratio  feat_ssr_count  \\\n",
            "0              0.508772             0.916667             0.0   \n",
            "1              0.742857             0.404494            12.0   \n",
            "2              0.625000             0.079365             2.0   \n",
            "3              0.690476             0.730769             2.0   \n",
            "4              0.291262             0.403101             6.0   \n",
            "5              0.645570             0.274510            12.0   \n",
            "6             -1.035714             0.375000             6.0   \n",
            "7             -4.142857             0.586957             3.0   \n",
            "8              0.362500             0.657143            10.0   \n",
            "9              0.527273             0.326087             4.0   \n",
            "\n",
            "   feat_load_factor  feat_is_widebody  feat_bags_per_pax  feat_haul_type  \\\n",
            "0          0.940000                 0           0.765957               0   \n",
            "1          1.007937                 0           0.700787               0   \n",
            "2          1.000000                 0           0.379518               1   \n",
            "3          0.980000                 0           0.530612               1   \n",
            "4          0.969880                 0           0.801242               0   \n",
            "5          1.000000                 0           0.614458               1   \n",
            "6          0.940000                 0           1.021277               0   \n",
            "7          1.000000                 0           0.920000               0   \n",
            "8          0.940000                 0           0.744681               1   \n",
            "9          0.960000                 0           0.958333               0   \n",
            "\n",
            "   feat_is_international  feat_hot_bags  feat_child_ratio  difficulty_score  \\\n",
            "0                      0              0          0.021277         43.279193   \n",
            "1                      1              0          0.031496         43.046607   \n",
            "2                      0              0          0.018072         22.950439   \n",
            "3                      0              0          0.040816         43.175441   \n",
            "4                      0              0          0.024845         31.799633   \n",
            "5                      0              0          0.018072         34.292358   \n",
            "6                      0              0          0.000000         27.200618   \n",
            "7                      0              0          0.020000         25.445998   \n",
            "8                      0              0          0.000000         42.317594   \n",
            "9                      0              0          0.062500         32.017478   \n",
            "\n",
            "   daily_rank difficulty_class  \n",
            "0        98.0        Difficult  \n",
            "1       103.0        Difficult  \n",
            "2       536.0             Easy  \n",
            "3       100.0        Difficult  \n",
            "4       398.0             Easy  \n",
            "5       339.0           Medium  \n",
            "6       485.0             Easy  \n",
            "7       511.0             Easy  \n",
            "8       117.0           Medium  \n",
            "9       390.0           Medium  \n"
          ]
        }
      ]
    },
    {
      "cell_type": "code",
      "source": [
        "plt.figure(figsize=(10,5))\n",
        "sns.histplot(data=final_output, x='difficulty_score', bins=40, kde=True, color='#3498db')\n",
        "plt.title(\"Distribution of Flight Difficulty Scores\", fontsize=15)\n",
        "plt.xlabel(\"Difficulty Score (1–100)\")\n",
        "plt.ylabel(\"Number of Flights\")\n",
        "plt.grid(alpha=0.3)\n",
        "plt.show()\n"
      ],
      "metadata": {
        "colab": {
          "base_uri": "https://localhost:8080/",
          "height": 471
        },
        "id": "pTVEdRfo2nGl",
        "outputId": "497eadd9-ce48-429a-e8eb-4d2d68240707"
      },
      "execution_count": 23,
      "outputs": [
        {
          "output_type": "display_data",
          "data": {
            "text/plain": [
              "<Figure size 1000x500 with 1 Axes>"
            ],
            "image/png": "[encoded data removed]"
          },
          "metadata": {}
        }
      ]
    },
    {
      "cell_type": "code",
      "source": [
        "from google.colab import files\n",
        "\n",
        "# Download the final submission file\n",
        "files.download(\"test_Maverick.csv\")\n"
      ],
      "metadata": {
        "colab": {
          "base_uri": "https://localhost:8080/",
          "height": 17
        },
        "id": "IWvhkd0H2t0o",
        "outputId": "c2241d17-d921-4612-cb19-419ef2871423"
      },
      "execution_count": 24,
      "outputs": [
        {
          "output_type": "display_data",
          "data": {
            "text/plain": [
              "<IPython.core.display.Javascript object>"
            ],
            "application/javascript": [
              "\n",
              "    async function download(id, filename, size) {\n",
              "      if (!google.colab.kernel.accessAllowed) {\n",
              "        return;\n",
              "      }\n",
              "      const div = document.createElement('div');\n",
              "      const label = document.createElement('label');\n",
              "      label.textContent = `Downloading \"${filename}\": `;\n",
              "      div.appendChild(label);\n",
              "      const progress = document.createElement('progress');\n",
              "      progress.max = size;\n",
              "      div.appendChild(progress);\n",
              "      document.body.appendChild(div);\n",
              "\n",
              "      const buffers = [];\n",
              "      let downloaded = 0;\n",
              "\n",
              "      const channel = await google.colab.kernel.comms.open(id);\n",
              "      // Send a message to notify the kernel that we're ready.\n",
              "      channel.send({})\n",
              "\n",
              "      for await (const message of channel.messages) {\n",
              "        // Send a message to notify the kernel that we're ready.\n",
              "        channel.send({})\n",
              "        if (message.buffers) {\n",
              "          for (const buffer of message.buffers) {\n",
              "            buffers.push(buffer);\n",
              "            downloaded += buffer.byteLength;\n",
              "            progress.value = downloaded;\n",
              "          }\n",
              "        }\n",
              "      }\n",
              "      const blob = new Blob(buffers, {type: 'application/binary'});\n",
              "      const a = document.createElement('a');\n",
              "      a.href = window.URL.createObjectURL(blob);\n",
              "      a.download = filename;\n",
              "      div.appendChild(a);\n",
              "      a.click();\n",
              "      div.remove();\n",
              "    }\n",
              "  "
            ]
          },
          "metadata": {}
        },
        {
          "output_type": "display_data",
          "data": {
            "text/plain": [
              "<IPython.core.display.Javascript object>"
            ],
            "application/javascript": [
              "download(\"download_455f9a79-3309-4685-b69e-49be4eaa6f86\", \"test_Maverick.csv\", 1273111)"
            ]
          },
          "metadata": {}
        }
      ]
    }
  ]
}
